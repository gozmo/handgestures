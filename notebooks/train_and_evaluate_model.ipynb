{
 "cells": [
  {
   "cell_type": "code",
   "execution_count": 1,
   "metadata": {},
   "outputs": [],
   "source": [
    "%load_ext autoreload\n",
    "%autoreload 2\n",
    "import sys\n",
    "import os\n",
    "os.chdir(\"..\")\n",
    "\n",
    "package_root = os.getcwd()\n",
    "sys.path.append(package_root)"
   ]
  },
  {
   "cell_type": "code",
   "execution_count": 2,
   "metadata": {},
   "outputs": [
    {
     "name": "stdout",
     "output_type": "stream",
     "text": [
      "Using device: cpu\n",
      "\n"
     ]
    }
   ],
   "source": [
    "from handsignals import main"
   ]
  },
  {
   "cell_type": "code",
   "execution_count": 3,
   "metadata": {},
   "outputs": [
    {
     "name": "stderr",
     "output_type": "stream",
     "text": [
      "ERROR:root:No traceback has been produced, nothing to debug.\n",
      "/home/pontus/.local/lib/python3.6/site-packages/torch/nn/_reduction.py:46: UserWarning: size_average and reduce args will be deprecated, please use reduction='mean' instead.\n",
      "  warnings.warn(warning.format(ret))\n"
     ]
    },
    {
     "name": "stdout",
     "output_type": "stream",
     "text": [
      "Epoch 0/0\n"
     ]
    },
    {
     "name": "stderr",
     "output_type": "stream",
     "text": [
      "Exception in thread Thread-4:\n",
      "Traceback (most recent call last):\n",
      "  File \"/usr/lib/python3.6/threading.py\", line 916, in _bootstrap_inner\n",
      "    self.run()\n",
      "  File \"/usr/lib/python3.6/threading.py\", line 864, in run\n",
      "    self._target(*self._args, **self._kwargs)\n",
      "  File \"/home/pontus/repos/handsigns/handsignals/networks/trainer.py\", line 24, in train\n",
      "    model_parameters)\n",
      "  File \"/home/pontus/repos/handsigns/handsignals/networks/simple_cnn.py\", line 29, in train\n",
      "    optimizer)\n",
      "  File \"/home/pontus/repos/handsigns/handsignals/networks/base_network.py\", line 72, in train_model\n",
      "    _, _, holdout_f1_scores = evaluate_model.evaluate_model_on_dataset(self, holdout_dataset, \"holdout\")\n",
      "  File \"/home/pontus/repos/handsigns/handsignals/evaluate/evaluate_model.py\", line 75, in evaluate_model_on_dataset\n",
      "    results = model.classify_dataset(dataset)\n",
      "  File \"/home/pontus/repos/handsigns/handsignals/networks/base_network.py\", line 136, in classify_dataset\n",
      "    prediction_distributions =  self.__model.classify_batch(images)\n",
      "  File \"/home/pontus/.local/lib/python3.6/site-packages/torch/nn/modules/module.py\", line 539, in __getattr__\n",
      "    type(self).__name__, name))\n",
      "AttributeError: 'ConvNetModel' object has no attribute 'classify_batch'\n",
      "\n"
     ]
    }
   ],
   "source": [
    "%debug\n",
    "main.train(epochs=1,\n",
    "          learning_rate=0.0001,\n",
    "          batch_size=8,\n",
    "          resume=False)"
   ]
  }
 ],
 "metadata": {
  "kernelspec": {
   "display_name": "Python 3",
   "language": "python",
   "name": "python3"
  },
  "language_info": {
   "codemirror_mode": {
    "name": "ipython",
    "version": 3
   },
   "file_extension": ".py",
   "mimetype": "text/x-python",
   "name": "python",
   "nbconvert_exporter": "python",
   "pygments_lexer": "ipython3",
   "version": "3.6.7"
  }
 },
 "nbformat": 4,
 "nbformat_minor": 2
}
